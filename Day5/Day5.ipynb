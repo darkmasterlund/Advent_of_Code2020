{
 "cells": [
  {
   "cell_type": "markdown",
   "metadata": {},
   "source": [
    "## Advent of Code Day 5\n",
    "https://adventofcode.com/2020/day/5"
   ]
  },
  {
   "cell_type": "code",
   "execution_count": 1,
   "metadata": {},
   "outputs": [],
   "source": [
    "# Open the file\n",
    "f = open('day5_input.txt', 'r')\n",
    "board_pas = f.read()\n",
    "f.close()\n",
    "\n",
    "# Parse the file into a list\n",
    "board_pas = board_pas.split('\\n')\n",
    "board_pas = board_pas[:-1]"
   ]
  },
  {
   "cell_type": "code",
   "execution_count": 2,
   "metadata": {},
   "outputs": [],
   "source": [
    "# list to keep each seat id\n",
    "seat_ID = []\n",
    "\n",
    "# For each boarding pass\n",
    "for pas in board_pas:\n",
    "    # Creat a virtual plane environment\n",
    "    row = [x for x in range(128)]\n",
    "    column = [x for x in range(8)]\n",
    "    \n",
    "    # For each character in the boarding pass\n",
    "    for char in pas:\n",
    "        # Find halfway between the row and the column\n",
    "        half_row = len(row)//2\n",
    "        half_column = len(column)//2\n",
    "        # Depending on the instruction keep \n",
    "        # the front half of the seats\n",
    "        if char == 'F':\n",
    "            row = row[:half_row]\n",
    "        # Or the back half of the seats\n",
    "        elif char == 'B':\n",
    "            row = row[half_row:]\n",
    "        # Keep the right half of the seats\n",
    "        elif char == 'R':\n",
    "            column = column[half_column:]\n",
    "        # Or the left half of the seats\n",
    "        elif char == 'L':\n",
    "            column = column[:half_column]\n",
    "    \n",
    "    # Add each individual seat ID to the list\n",
    "    seat_ID.append(row[0]*8 + column[0])"
   ]
  },
  {
   "cell_type": "code",
   "execution_count": 3,
   "metadata": {},
   "outputs": [
    {
     "data": {
      "text/plain": [
       "874"
      ]
     },
     "execution_count": 3,
     "metadata": {},
     "output_type": "execute_result"
    }
   ],
   "source": [
    "# Find the highest seat ID\n",
    "max(seat_ID)"
   ]
  },
  {
   "cell_type": "markdown",
   "metadata": {},
   "source": [
    "## Part 2"
   ]
  },
  {
   "cell_type": "code",
   "execution_count": 9,
   "metadata": {},
   "outputs": [],
   "source": [
    "# List to keep all the expected seat IDs\n",
    "all_seat_ID = []\n",
    "# Find all the existing seat IDs\n",
    "for row in range(128):\n",
    "    for column in range(8):\n",
    "        all_seat_ID.append(row*8+column)"
   ]
  },
  {
   "cell_type": "markdown",
   "metadata": {},
   "source": [
    "Since there are empty sections at each end, first our program will find a list of integers increasing by one, hence lastID"
   ]
  },
  {
   "cell_type": "code",
   "execution_count": 17,
   "metadata": {},
   "outputs": [
    {
     "name": "stdout",
     "output_type": "stream",
     "text": [
      "594\n"
     ]
    }
   ],
   "source": [
    "lastID = -1\n",
    "# Iterate over the list of all expected passes\n",
    "for ID in all_seat_ID:\n",
    "    # If the item is not in the scanned passes, print it\n",
    "    if ID not in seat_ID :\n",
    "        # If this ID is not one more than the last one, print\n",
    "        if ID != lastID + 1:\n",
    "            print(ID)\n",
    "            break\n",
    "        else: lastID += 1"
   ]
  },
  {
   "cell_type": "code",
   "execution_count": null,
   "metadata": {},
   "outputs": [],
   "source": []
  }
 ],
 "metadata": {
  "kernelspec": {
   "display_name": "Python 3",
   "language": "python",
   "name": "python3"
  },
  "language_info": {
   "codemirror_mode": {
    "name": "ipython",
    "version": 3
   },
   "file_extension": ".py",
   "mimetype": "text/x-python",
   "name": "python",
   "nbconvert_exporter": "python",
   "pygments_lexer": "ipython3",
   "version": "3.8.5"
  }
 },
 "nbformat": 4,
 "nbformat_minor": 4
}
