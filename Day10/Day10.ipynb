{
 "cells": [
  {
   "cell_type": "markdown",
   "metadata": {},
   "source": [
    "## Advent of Code Day 10\n",
    "https://adventofcode.com/2020/day/10"
   ]
  },
  {
   "cell_type": "code",
   "execution_count": 1,
   "metadata": {},
   "outputs": [],
   "source": [
    "# Open the file\n",
    "f = open('day10_input.txt', 'r')\n",
    "adapters = f.read()\n",
    "f.close()\n",
    "\n",
    "# Parse, make list, get rid of empty space, make integers, \n",
    "# add a starting place 0, add an ending place, then sort\n",
    "adpts = adapters.split('\\n')\n",
    "adpts = adpts[:-1]\n",
    "adpts = [int(x) for x in adpts]\n",
    "adpts.append(0)\n",
    "adpts.append(max(adpts) + 3)\n",
    "adpts.sort()\n",
    "comp = adpts[-1]\n"
   ]
  },
  {
   "cell_type": "code",
   "execution_count": 2,
   "metadata": {},
   "outputs": [
    {
     "data": {
      "text/plain": [
       "3034"
      ]
     },
     "execution_count": 2,
     "metadata": {},
     "output_type": "execute_result"
    }
   ],
   "source": [
    "# Variables to keep track of how many differences of one and of three\n",
    "one_dif = 0\n",
    "three_dif = 0\n",
    "\n",
    "# For each index of the list excluding the starting point\n",
    "for i in range(1, len(adpts)):\n",
    "    # Find out the difference of this adapter and the last, add to correct variable\n",
    "    if adpts[i] - adpts[i-1] == 1:\n",
    "        one_dif += 1\n",
    "    elif adpts[i] - adpts[i-1] == 3:\n",
    "        three_dif += 1\n",
    "# Print the answer asked for in the problem  \n",
    "one_dif * three_dif"
   ]
  },
  {
   "cell_type": "markdown",
   "metadata": {},
   "source": [
    "## Part 2"
   ]
  },
  {
   "cell_type": "code",
   "execution_count": 3,
   "metadata": {},
   "outputs": [],
   "source": [
    "# Dict which stores the amount of splits per the consecutive numbers in the adapters\n",
    "#split_vals = {x:2+2*(x-2) for x in range(2,101)}\n",
    "split_vals = {1:1, 2:2, 3:4, 4:7}"
   ]
  },
  {
   "cell_type": "code",
   "execution_count": 4,
   "metadata": {},
   "outputs": [],
   "source": [
    "# List to keep lists of consecutive numbers\n",
    "consecutive_nums = []\n",
    "# Variable to be assigned after we have found a chunk so we skip making lists till after we \n",
    "# have iterated over the whole chunk\n",
    "skip_to = 0\n",
    "\n",
    "# For each adapter\n",
    "for i in range(len(adpts)-1):\n",
    "    # If we are not in the middle of a chunk\n",
    "    if i == skip_to or i > skip_to:\n",
    "        # If there are consecutive numbers, we have a new chunk\n",
    "        if adpts[i] + 1 == adpts[i+1]:\n",
    "            # List to hold chunk\n",
    "            consec_chunk = []\n",
    "            # Index used to create the chunk\n",
    "            index = i+1\n",
    "            # While the numbers are still consecutive add them to the chunk list\n",
    "            while adpts[index] - 1 == adpts[index-1]:\n",
    "                consec_chunk.append(adpts[index])\n",
    "                index += 1\n",
    "            # Update skip to so in the main for loop we skip over the rest of this chunk\n",
    "            skip_to = index\n",
    "        # Add the chunk to consecutive_nums\n",
    "        consecutive_nums.append(consec_chunk)"
   ]
  },
  {
   "cell_type": "code",
   "execution_count": 7,
   "metadata": {},
   "outputs": [],
   "source": [
    "# This cell removes repeats in the list\n",
    "# NOTE - this cell needs to be run 3 times, I'm not sure what's going on here,\n",
    "#        but if run three times it works\n",
    "for i in range(len(consecutive_nums)-1):\n",
    "    if consecutive_nums[i] in consecutive_nums[i+1:]:\n",
    "        consecutive_nums.remove(consecutive_nums[i])"
   ]
  },
  {
   "cell_type": "code",
   "execution_count": 8,
   "metadata": {},
   "outputs": [
    {
     "data": {
      "text/plain": [
       "259172170858496"
      ]
     },
     "execution_count": 8,
     "metadata": {},
     "output_type": "execute_result"
    }
   ],
   "source": [
    "# Variable to store answer, the number of arrangements\n",
    "num_arr = 1\n",
    "# For each chunk of consecutive numbers multiply the associated split value\n",
    "for chunk in consecutive_nums:\n",
    "    num_arr *= split_vals[len(chunk)]\n",
    "    \n",
    "# Print answer\n",
    "num_arr"
   ]
  },
  {
   "cell_type": "code",
   "execution_count": null,
   "metadata": {},
   "outputs": [],
   "source": []
  }
 ],
 "metadata": {
  "kernelspec": {
   "display_name": "Python 3",
   "language": "python",
   "name": "python3"
  },
  "language_info": {
   "codemirror_mode": {
    "name": "ipython",
    "version": 3
   },
   "file_extension": ".py",
   "mimetype": "text/x-python",
   "name": "python",
   "nbconvert_exporter": "python",
   "pygments_lexer": "ipython3",
   "version": "3.8.5"
  }
 },
 "nbformat": 4,
 "nbformat_minor": 4
}
