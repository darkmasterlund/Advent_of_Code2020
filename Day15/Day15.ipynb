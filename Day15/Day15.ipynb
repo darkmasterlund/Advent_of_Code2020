{
 "cells": [
  {
   "cell_type": "markdown",
   "metadata": {},
   "source": [
    "## Advent of Code Day 15\n",
    "https://adventofcode.com/2020/day/15"
   ]
  },
  {
   "cell_type": "code",
   "execution_count": 3,
   "metadata": {},
   "outputs": [],
   "source": [
    "# Open the file\n",
    "f = open('day15_input.txt', 'r')\n",
    "game = f.read()\n",
    "f.close()\n",
    "\n",
    "# Make the file a list of integers and make a dict to store the last values\n",
    "game = game.replace('\\n','')\n",
    "game = game.split(',')\n",
    "game = [int(x) for x in game]\n",
    "num_turn = {x:0 for x in range(10001)}\n",
    "\n",
    "# Update the dictionary for the starting values of the game\n",
    "for i in range(len(game)-1):\n",
    "    num_turn[game[i]] = i+1"
   ]
  },
  {
   "cell_type": "code",
   "execution_count": 4,
   "metadata": {},
   "outputs": [],
   "source": [
    "# While we have not reached turn 2020, (the length of game is less than 2020)\n",
    "while len(game) < 2020:\n",
    "    # If this is the first time this number is in game, the dict value associated with it is 0\n",
    "    if num_turn[game[-1]] == 0:\n",
    "        # Add 0 and update the dictionary\n",
    "        game.append(0)\n",
    "        num_turn[game[-2]] = len(game)-1\n",
    "    # If this number has been in the game before\n",
    "    else:\n",
    "        # Add to the list the turn we are on, and the last turn the number was said\n",
    "        game.append(len(game) - num_turn[game[-1]])\n",
    "        # Update dict\n",
    "        num_turn[game[-2]] = len(game)-1"
   ]
  },
  {
   "cell_type": "code",
   "execution_count": 5,
   "metadata": {},
   "outputs": [
    {
     "data": {
      "text/plain": [
       "700"
      ]
     },
     "execution_count": 5,
     "metadata": {},
     "output_type": "execute_result"
    }
   ],
   "source": [
    "game[-1]"
   ]
  },
  {
   "cell_type": "markdown",
   "metadata": {},
   "source": [
    "## Part 2"
   ]
  },
  {
   "cell_type": "code",
   "execution_count": 6,
   "metadata": {},
   "outputs": [],
   "source": [
    "# Open the file\n",
    "f = open('day15_input.txt', 'r')\n",
    "game = f.read()\n",
    "f.close()\n",
    "\n",
    "# Make the file a list of integers and make a dict to store the last values\n",
    "game = game.replace('\\n','')\n",
    "game = game.split(',')\n",
    "game = [int(x) for x in game]\n",
    "num_turn = {x:0 for x in range(30000001)}\n",
    "\n",
    "# Update the dictionary for the starting values of the game\n",
    "for i in range(len(game)-1):\n",
    "    num_turn[game[i]] = i+1"
   ]
  },
  {
   "cell_type": "code",
   "execution_count": 7,
   "metadata": {},
   "outputs": [],
   "source": [
    "# While we have not reached turn 30..., (the length of game is less than 30....)\n",
    "while len(game) < 30000000:\n",
    "    # If this is the first time this number is in game, the dict value associated with it is 0\n",
    "    if num_turn[game[-1]] == 0:\n",
    "        # Add 0 and update the dictionary\n",
    "        game.append(0)\n",
    "        num_turn[game[-2]] = len(game)-1\n",
    "    # If this number has been in the game before\n",
    "    else:\n",
    "        # Add to the list the turn we are on, and the last turn the number was said\n",
    "        game.append(len(game) - num_turn[game[-1]])\n",
    "        # Update dict\n",
    "        num_turn[game[-2]] = len(game)-1"
   ]
  },
  {
   "cell_type": "code",
   "execution_count": 8,
   "metadata": {},
   "outputs": [
    {
     "data": {
      "text/plain": [
       "51358"
      ]
     },
     "execution_count": 8,
     "metadata": {},
     "output_type": "execute_result"
    }
   ],
   "source": [
    "game[-1]"
   ]
  },
  {
   "cell_type": "code",
   "execution_count": null,
   "metadata": {},
   "outputs": [],
   "source": []
  }
 ],
 "metadata": {
  "kernelspec": {
   "display_name": "Python 3",
   "language": "python",
   "name": "python3"
  },
  "language_info": {
   "codemirror_mode": {
    "name": "ipython",
    "version": 3
   },
   "file_extension": ".py",
   "mimetype": "text/x-python",
   "name": "python",
   "nbconvert_exporter": "python",
   "pygments_lexer": "ipython3",
   "version": "3.8.5"
  }
 },
 "nbformat": 4,
 "nbformat_minor": 4
}
