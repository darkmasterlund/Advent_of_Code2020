{
 "cells": [
  {
   "cell_type": "markdown",
   "metadata": {},
   "source": [
    "## Advent of Code Day 25\n",
    "https://adventofcode.com/2020/day/25"
   ]
  },
  {
   "cell_type": "code",
   "execution_count": 5,
   "metadata": {},
   "outputs": [],
   "source": [
    "# Open and read the file\n",
    "f = open('day25_.txt', 'r')\n",
    "keys = f.read()\n",
    "f.close()\n",
    "\n",
    "# Parse keys into a list of integers\n",
    "keys = keys.split('\\n')\n",
    "keys = keys[:-1]\n",
    "keys = [int(x) for x in keys]"
   ]
  },
  {
   "cell_type": "code",
   "execution_count": 6,
   "metadata": {},
   "outputs": [],
   "source": [
    "# Create all the variables, subject number is seven\n",
    "# The card and door keys start at one, and the loops at zero\n",
    "sub_num = 7\n",
    "card_key = 1\n",
    "door_key = 1\n",
    "card_loop = 0\n",
    "door_loop = 0"
   ]
  },
  {
   "cell_type": "code",
   "execution_count": 7,
   "metadata": {},
   "outputs": [],
   "source": [
    "# Keep looping until card_key is equal to the first object in keys\n",
    "while card_key != keys[0]:\n",
    "    # Multiply the key by the subject number\n",
    "    card_key *= sub_num\n",
    "    # Mod the key by 20201227\n",
    "    card_key %= 20201227\n",
    "    # Increase the loop count\n",
    "    card_loop += 1\n",
    "    \n",
    "# Keep looping until door_key is equal to the second object in keys\n",
    "while door_key != keys[1]:\n",
    "    # Multilply the key by the subject number\n",
    "    door_key *= sub_num\n",
    "    # Mod the key by 20201227\n",
    "    door_key %= 20201227\n",
    "    # Increase the loop count\n",
    "    door_loop += 1"
   ]
  },
  {
   "cell_type": "code",
   "execution_count": 8,
   "metadata": {},
   "outputs": [
    {
     "name": "stdout",
     "output_type": "stream",
     "text": [
      "6408263\n"
     ]
    }
   ],
   "source": [
    "# The new subject number is the door key, the encryption key starts at one\n",
    "sub_num = door_key\n",
    "enc_key = 1\n",
    "\n",
    "# This represents the card and door switching keys in the problem\n",
    "# Repeat the loop the number of times the card previously looped\n",
    "for _ in range(card_loop):\n",
    "    # Multiply the encryption key by the new subject number from the door\n",
    "    enc_key *= sub_num\n",
    "    # Mod the key by 20201227\n",
    "    enc_key %= 20201227\n",
    "    \n",
    "# Print the encryption key as it is the problem\n",
    "print(enc_key)"
   ]
  },
  {
   "cell_type": "markdown",
   "metadata": {},
   "source": [
    "## No Part 2"
   ]
  },
  {
   "cell_type": "code",
   "execution_count": null,
   "metadata": {},
   "outputs": [],
   "source": []
  }
 ],
 "metadata": {
  "kernelspec": {
   "display_name": "Python 3",
   "language": "python",
   "name": "python3"
  },
  "language_info": {
   "codemirror_mode": {
    "name": "ipython",
    "version": 3
   },
   "file_extension": ".py",
   "mimetype": "text/x-python",
   "name": "python",
   "nbconvert_exporter": "python",
   "pygments_lexer": "ipython3",
   "version": "3.8.5"
  }
 },
 "nbformat": 4,
 "nbformat_minor": 4
}
