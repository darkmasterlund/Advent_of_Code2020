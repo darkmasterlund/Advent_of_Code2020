{
 "cells": [
  {
   "cell_type": "markdown",
   "metadata": {},
   "source": [
    "## Advent of Code Day 9 \n",
    "https://adventofcode.com/2020/day/9"
   ]
  },
  {
   "cell_type": "code",
   "execution_count": null,
   "metadata": {},
   "outputs": [],
   "source": [
    "# Open file\n",
    "f = open('day9_input.txt', 'r')\n",
    "data = f.read()\n",
    "f.close()\n",
    "\n",
    "# Parse file, make list of integers\n",
    "data = data.split('\\n')\n",
    "data = data[:-1]\n",
    "data = [int(x) for x in data]"
   ]
  },
  {
   "cell_type": "code",
   "execution_count": null,
   "metadata": {},
   "outputs": [],
   "source": [
    "# For each object in data except the first 25\n",
    "for i in range(25, len(data)):\n",
    "    # Make a list of all possible combination of the previous 25 numbers\n",
    "    pos_nums = [x + y for x in data[i-25:i] for y in data[i-25:i]]\n",
    "    # If the current number is not in the list, print it\n",
    "    # Note, we change the list to a set for faster iteration\n",
    "    if data[i] not in set(pos_nums):\n",
    "        invalid_num = data[i]\n",
    "        print(data[i])\n",
    "    # If the current number is in that list, continue\n",
    "    else:\n",
    "        continue\n",
    "    "
   ]
  },
  {
   "cell_type": "markdown",
   "metadata": {},
   "source": [
    "## Part 2"
   ]
  },
  {
   "cell_type": "code",
   "execution_count": null,
   "metadata": {},
   "outputs": [],
   "source": [
    "# Iterate over each item in the data\n",
    "for i in range(len(data)):\n",
    "    # Make a list to hold the contiguous numbers\n",
    "    contiguous_nums = [data[i]]\n",
    "    # Variable to keep adding contiguous numbers\n",
    "    lag_cont = 1\n",
    "    # While the sum of all the contiguous numbers is less than the invalid number\n",
    "    while sum(contiguous_nums) < invalid_num:\n",
    "        # Add the next number and increas lag_cont\n",
    "        contiguous_nums.append(data[i+lag_cont])\n",
    "        lag_cont += 1\n",
    "    \n",
    "    # If the sum of the contiguous numbers is the invalid number we have an answer\n",
    "    if sum(contiguous_nums) == invalid_num:\n",
    "        # Print answer and stop\n",
    "        print(min(contiguous_nums) + max(contiguous_nums))\n",
    "        break\n",
    "    # If the sum of the contiguious numbers is not the invalid number, continue starting with the next number\n",
    "    else:\n",
    "        continue"
   ]
  },
  {
   "cell_type": "code",
   "execution_count": null,
   "metadata": {},
   "outputs": [],
   "source": []
  }
 ],
 "metadata": {
  "kernelspec": {
   "display_name": "Python 3",
   "language": "python",
   "name": "python3"
  },
  "language_info": {
   "codemirror_mode": {
    "name": "ipython",
    "version": 3
   },
   "file_extension": ".py",
   "mimetype": "text/x-python",
   "name": "python",
   "nbconvert_exporter": "python",
   "pygments_lexer": "ipython3",
   "version": "3.8.5"
  }
 },
 "nbformat": 4,
 "nbformat_minor": 4
}
