{
 "cells": [
  {
   "cell_type": "markdown",
   "metadata": {},
   "source": [
    "## Advent of Code Day 11\n",
    "https://adventofcode.com/2020/day/11"
   ]
  },
  {
   "cell_type": "code",
   "execution_count": 1,
   "metadata": {},
   "outputs": [],
   "source": [
    "# Open the file\n",
    "f = open('day11_input.txt', 'r')\n",
    "seats = f.read()\n",
    "f.close()\n",
    "\n",
    "# Tun the file into a list of lists\n",
    "seats = seats.split('\\n')\n",
    "seats = seats[:-1]\n",
    "seats = [list(x) for x in seats]"
   ]
  },
  {
   "cell_type": "code",
   "execution_count": 2,
   "metadata": {},
   "outputs": [],
   "source": [
    "def num_occ(seats, coords):\n",
    "    # Input the list of strings for the seats and a tuple of integers for coords\n",
    "    # Returns the number of occupied seat next to the one at the coords\n",
    "    # Assign the variables, num is number of occupied seats next to us, x, y are the coordinates\n",
    "    # of our seats, coord_list is a list of all the coordinates next to us\n",
    "    num = 0\n",
    "    x, y = coords[0], coords[1]\n",
    "    coords_list = [(x+1,y), (x-1,y), (x,y+1), (x,y-1), (x+1,y+1), (x-1,y-1), (x-1,y+1), (x+1,y-1)]\n",
    "    \n",
    "    # Iterate over the seats next to us\n",
    "    for coord in coords_list:\n",
    "        # If the seat next to us does not exist (is off the map) just skip\n",
    "        if coord[0] == -1 or coord[1] == -1:\n",
    "            continue\n",
    "        if coord[0] > len(seats[0])-1 or coord[1] > len(seats)-1:\n",
    "            continue\n",
    "        # If the seat next to us is occupied count it\n",
    "        if seats[coord[1]][coord[0]] == \"#\":\n",
    "            num += 1\n",
    "    # Return the number of seats next to us that are occupied\n",
    "    return num"
   ]
  },
  {
   "cell_type": "code",
   "execution_count": 3,
   "metadata": {},
   "outputs": [],
   "source": [
    "# We will loop over this until a specified condition is met this is near the very end of the loop\n",
    "end = False\n",
    "while not end:\n",
    "    # Create an empty set of seats to build the changes\n",
    "    new_seats = [['.' for _ in range(len(x))] for x in seats]\n",
    "    # Iterate over each row and each seat in row\n",
    "    for y in range(len(seats)):\n",
    "        for x in range(len(seats[y])):\n",
    "            # If floor space keep the same\n",
    "            if seats[y][x] == '.':\n",
    "                new_seats[y][x] = '.'\n",
    "            # If empty check if it becomes occupied\n",
    "            elif seats[y][x] == 'L':\n",
    "                if num_occ(seats, (x,y)) == 0:\n",
    "                    new_seats[y][x] = '#'\n",
    "                else:\n",
    "                    new_seats[y][x] = 'L'\n",
    "            # If occupied check if it becomes empty\n",
    "            elif seats[y][x] == '#':\n",
    "                if num_occ(seats, (x,y)) > 4 or num_occ(seats, (x,y)) == 4:\n",
    "                    new_seats[y][x] = 'L'\n",
    "                else:\n",
    "                    new_seats[y][x] = '#'\n",
    "    \n",
    "    # If this set of seats matches the last one, we exit the loop\n",
    "    if new_seats == seats:end = True\n",
    "    # If this set of seats does not match the last one, continue looping\n",
    "    else: end = False\n",
    "    # Set the new set of seats to the variable seats to start the process over again\n",
    "    seats = new_seats"
   ]
  },
  {
   "cell_type": "code",
   "execution_count": 4,
   "metadata": {},
   "outputs": [
    {
     "data": {
      "text/plain": [
       "2283"
      ]
     },
     "execution_count": 4,
     "metadata": {},
     "output_type": "execute_result"
    }
   ],
   "source": [
    "# Variable holds the number of seats occupied\n",
    "num_occ_seats = 0\n",
    "\n",
    "# Count the number of occupied seats in each row\n",
    "for row in seats:\n",
    "    num_occ_seats += row.count('#')\n",
    "\n",
    "# Print\n",
    "num_occ_seats"
   ]
  },
  {
   "cell_type": "markdown",
   "metadata": {},
   "source": [
    "## Part 2"
   ]
  },
  {
   "cell_type": "code",
   "execution_count": 5,
   "metadata": {},
   "outputs": [],
   "source": [
    "# Open the file\n",
    "f = open('day11_input.txt', 'r')\n",
    "seats = f.read()\n",
    "f.close()\n",
    "\n",
    "# Tun the file into a list of lists\n",
    "seats = seats.split('\\n')\n",
    "seats = seats[:-1]\n",
    "seats = [list(x) for x in seats]"
   ]
  },
  {
   "cell_type": "code",
   "execution_count": 6,
   "metadata": {},
   "outputs": [],
   "source": [
    "def num_occ(seats, coords):\n",
    "    # Input the list of strings for the seats and a tuple of integers for coords\n",
    "    # Returns the number of occupied seat next to the one at the coords\n",
    "    \n",
    "    # Assign the variables, num is number of occupied seats next to us, x, y are the coordinates\n",
    "    # of our seats, coord_list is a list of all the coordinates next to us however it functions a\n",
    "    # little different from part 1\n",
    "    num = 0\n",
    "    x, y = coords[0], coords[1]\n",
    "    coords_list = [[+1,0], [-1,0], [0,+1], [0,-1], [+1,+1], [-1,-1], [-1,+1], [+1,-1]]\n",
    "    \n",
    "    # Iterate over the seats next to us\n",
    "    for coord in coords_list:\n",
    "        # Skip is set to False by default\n",
    "        skip = False\n",
    "        # if this coord does not exist move on\n",
    "        if x+coord[0] == -1 or y+coord[1] == -1:\n",
    "            continue\n",
    "        if x+coord[0] > len(seats[0])-1 or y+coord[1] > len(seats)-1:\n",
    "            continue\n",
    "            \n",
    "        # This loops over each place in a line of sight so long as it is a floor space\n",
    "        while seats[y+coord[1]][x+coord[0]] == '.':\n",
    "            # Increase in the line depending on the numbers in coord_list\n",
    "            if coord[0] < 0: coord[0] -= 1\n",
    "            elif coord[0] > 0: coord[0] += 1\n",
    "            if coord[1] < 0: coord[1] -= 1\n",
    "            elif coord[1] > 0: coord[1] += 1\n",
    "                \n",
    "            # If this coordinate does not exist move on, setting skip to True so we don't\n",
    "            # get an error after we exit the loop\n",
    "            if x+coord[0] < 0 or y+coord[1] < 0:\n",
    "                skip = True\n",
    "                break\n",
    "            if x+coord[0] > len(seats[0])-1 or y+coord[1] > len(seats)-1:\n",
    "                skip = True\n",
    "                break\n",
    "        # If we need to skip this to avoid an error as these coords do not exist, do so\n",
    "        if skip:\n",
    "            continue\n",
    "        # If the coords do exist, increase if seat is occupied\n",
    "        else:\n",
    "            if seats[y+coord[1]][x+coord[0]] == \"#\":\n",
    "                num += 1\n",
    "    \n",
    "    return num"
   ]
  },
  {
   "cell_type": "code",
   "execution_count": 7,
   "metadata": {},
   "outputs": [],
   "source": [
    "end = False\n",
    "while not end:\n",
    "    # Create an empty set of seats to build the changes\n",
    "    new_seats = [['.' for _ in range(len(x))] for x in seats]\n",
    "    # Iterate over each row and each seat in row\n",
    "    for y in range(len(seats)):\n",
    "        for x in range(len(seats[y])):\n",
    "            # If floor space keep the same\n",
    "            if seats[y][x] == '.':\n",
    "                new_seats[y][x] = '.'\n",
    "            # If empty check if it becomes occupied\n",
    "            elif seats[y][x] == 'L':\n",
    "                if num_occ(seats, (x,y)) == 0:\n",
    "                    new_seats[y][x] = '#'\n",
    "                else:\n",
    "                    new_seats[y][x] = 'L'\n",
    "            # If occupied check if it becomes empty\n",
    "            elif seats[y][x] == '#':\n",
    "                if num_occ(seats, (x,y)) > 5 or num_occ(seats, (x,y)) == 5:\n",
    "                    new_seats[y][x] = 'L'\n",
    "                else:\n",
    "                    new_seats[y][x] = '#'\n",
    "            # If it is not one of the above characters, something is wrong\n",
    "            else:\n",
    "                print('Well something\\'s wrong, cause this isn\\'t supposed to happen')\n",
    "\n",
    "    if new_seats == seats:end = True\n",
    "    else: end = False\n",
    "    seats = new_seats"
   ]
  },
  {
   "cell_type": "code",
   "execution_count": 8,
   "metadata": {},
   "outputs": [
    {
     "data": {
      "text/plain": [
       "2054"
      ]
     },
     "execution_count": 8,
     "metadata": {},
     "output_type": "execute_result"
    }
   ],
   "source": [
    "# Variable holds the number of seats occupied\n",
    "num_occ_seats = 0\n",
    "\n",
    "# Count the number of occupied seats in each row\n",
    "for row in seats:\n",
    "    num_occ_seats += row.count('#')\n",
    "\n",
    "# Print\n",
    "num_occ_seats"
   ]
  },
  {
   "cell_type": "code",
   "execution_count": null,
   "metadata": {},
   "outputs": [],
   "source": []
  }
 ],
 "metadata": {
  "kernelspec": {
   "display_name": "Python 3",
   "language": "python",
   "name": "python3"
  },
  "language_info": {
   "codemirror_mode": {
    "name": "ipython",
    "version": 3
   },
   "file_extension": ".py",
   "mimetype": "text/x-python",
   "name": "python",
   "nbconvert_exporter": "python",
   "pygments_lexer": "ipython3",
   "version": "3.8.5"
  }
 },
 "nbformat": 4,
 "nbformat_minor": 4
}
