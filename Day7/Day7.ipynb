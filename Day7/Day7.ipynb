{
 "cells": [
  {
   "cell_type": "markdown",
   "metadata": {},
   "source": [
    "## Advent of Code Day 7\n",
    "https://adventofcode.com/2020/day/7"
   ]
  },
  {
   "cell_type": "code",
   "execution_count": 92,
   "metadata": {},
   "outputs": [],
   "source": [
    "# Import bag class from file\n",
    "from bag_clas import *\n",
    "\n",
    "# Open input file and read\n",
    "f = open('day7_input.txt', 'r')\n",
    "file = f.read()\n",
    "f.close()\n",
    "\n",
    "# Sepperate string of input file into a list\n",
    "bag_list = file.split('\\n')\n",
    "bag_list = bag_list[:-1]"
   ]
  },
  {
   "cell_type": "code",
   "execution_count": 93,
   "metadata": {},
   "outputs": [],
   "source": [
    "# Create a list of the nine types of bags for reference\n",
    "nine_bags = [x[:x.find('contain')-2] for x in bag_list]\n",
    "# Make each bag in list a bag object instead of a string\n",
    "nine_bags = [bag(x, []) for x in nine_bags]\n",
    "\n",
    "# For each of the bag objects\n",
    "for bg in nine_bags:\n",
    "    # For each instruction in given from the input bag_list\n",
    "    for bg_str in bag_list:\n",
    "        # If the bag object (bg) is being contained in the instruction from the bag list (bg_str)\n",
    "        if bg.color in bg_str[bg_str.find('contain'):]:\n",
    "            # Add the bag containing the bag object (bg) to the list of bags that contain it\n",
    "            bg.contains.append(bg_str[:bg_str.find('contain')-2])"
   ]
  },
  {
   "cell_type": "code",
   "execution_count": 94,
   "metadata": {},
   "outputs": [],
   "source": [
    "# Make a list of the bags which contain my bag inside\n",
    "for bg in nine_bags:\n",
    "    if bg.color == 'shiny gold bag':\n",
    "        bags_with_mine = bg.contains"
   ]
  },
  {
   "cell_type": "code",
   "execution_count": 95,
   "metadata": {},
   "outputs": [],
   "source": [
    "# Do 1000 times\n",
    "for _ in range(1000):\n",
    "    # Go over each bag\n",
    "    for bg in nine_bags:\n",
    "        # If the bag contains a bag that contains mine, add it the the list of\n",
    "        # bags that contain mine, and remove from the bag list\n",
    "        if bg.color in bags_with_mine:\n",
    "            bags_with_mine += bg.contains\n",
    "            nine_bags.remove(bg)"
   ]
  },
  {
   "cell_type": "code",
   "execution_count": 96,
   "metadata": {},
   "outputs": [
    {
     "data": {
      "text/plain": [
       "139"
      ]
     },
     "execution_count": 96,
     "metadata": {},
     "output_type": "execute_result"
    }
   ],
   "source": [
    "# Count the bags that contain mine, convert to a set to get rid of repeats\n",
    "len(set(bags_with_mine))"
   ]
  },
  {
   "cell_type": "markdown",
   "metadata": {},
   "source": [
    "## Part 2"
   ]
  },
  {
   "cell_type": "code",
   "execution_count": 97,
   "metadata": {},
   "outputs": [],
   "source": [
    "# Create a list of the nine types of bags for reference\n",
    "nine_bags = [bag(x[:x.find('contain')-2], x[x.find('contain')+7:].split(',')) for x in bag_list]\n",
    "\n",
    "# Apply the method clean_contains for each object in nine bags\n",
    "for bg in nine_bags:\n",
    "    bg.clean_contains()\n",
    "    # Change it so instead of storing strings in self.contains, store bag objects\n",
    "    for other_bag in nine_bags:\n",
    "        if other_bag.color in bg.contains:\n",
    "            bg.contains.update({other_bag : bg.contains[other_bag.color]})\n",
    "            bg.contains.pop(other_bag.color)\n",
    "            "
   ]
  },
  {
   "cell_type": "code",
   "execution_count": 98,
   "metadata": {},
   "outputs": [],
   "source": [
    "def how_many_bags(bg):\n",
    "    # Input a bag object\n",
    "    # Output the total number of bags in that bag\n",
    "    # Variable to set the total\n",
    "    total = 0\n",
    "    # Add the number of bags this bag holds\n",
    "    total += sum(list(bg.contains.values()))\n",
    "    # For each bag this one holds find the bags it holds\n",
    "    for this_bg in bg.contains:\n",
    "        # If the bag holds no others return zero\n",
    "        if bg.contains == {'none': 0}:\n",
    "            return 0\n",
    "        # Find the number of bags inside the bag inside mine recursively\n",
    "        total += bg.contains[this_bg]*how_many_bags(this_bg)\n",
    "    return total"
   ]
  },
  {
   "cell_type": "code",
   "execution_count": 99,
   "metadata": {},
   "outputs": [
    {
     "name": "stdout",
     "output_type": "stream",
     "text": [
      "58175\n"
     ]
    }
   ],
   "source": [
    "# Find the bag object that is mine, (shiny gold bag), and print how many bags are inside it\n",
    "for bg in nine_bags:\n",
    "    if bg.color == 'shiny gold bag':\n",
    "        print(how_many_bags(bg))"
   ]
  },
  {
   "cell_type": "code",
   "execution_count": null,
   "metadata": {},
   "outputs": [],
   "source": []
  }
 ],
 "metadata": {
  "kernelspec": {
   "display_name": "Python 3",
   "language": "python",
   "name": "python3"
  },
  "language_info": {
   "codemirror_mode": {
    "name": "ipython",
    "version": 3
   },
   "file_extension": ".py",
   "mimetype": "text/x-python",
   "name": "python",
   "nbconvert_exporter": "python",
   "pygments_lexer": "ipython3",
   "version": "3.8.5"
  }
 },
 "nbformat": 4,
 "nbformat_minor": 4
}
