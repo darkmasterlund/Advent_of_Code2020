{
 "cells": [
  {
   "cell_type": "markdown",
   "metadata": {},
   "source": [
    "## Advent of Code day 3\n",
    "\n",
    "https://adventofcode.com/2020/day/3"
   ]
  },
  {
   "cell_type": "code",
   "execution_count": 59,
   "metadata": {},
   "outputs": [],
   "source": [
    "# Open file\n",
    "f = open('day3_input.txt', 'r')\n",
    "sledding_hill = f.read()\n",
    "f.close()\n",
    "\n",
    "# Make file into a list\n",
    "hills = sledding_hill.split('\\n')\n",
    "hills = hills[:-1]"
   ]
  },
  {
   "cell_type": "code",
   "execution_count": 45,
   "metadata": {},
   "outputs": [],
   "source": [
    "# A set of coordinates (x, y) Note, due to the way lists work indexing will be hill[y][x]\n",
    "coords = [3, 1]\n",
    "# Variable: number of trees encountered\n",
    "trees = 0\n",
    "\n",
    "# While we haven't hit the bottom yet\n",
    "while coords[1] < len(hills):\n",
    "    # If there is a tree at the coordinates, count it\n",
    "    if hills[coords[1]][coords[0]] == '#':\n",
    "        trees += 1\n",
    "    # If we reach the right side of the hill, reset the x coord so it continues on the other side\n",
    "    if coords[0] + 3 >= len(hills[0]):\n",
    "        coords[0] = 3 - (len(hills[0]) - coords[0] - 1)\n",
    "        coords[0] -= 4\n",
    "    # Move down one and to the right 3\n",
    "    coords[1] += 1\n",
    "    coords[0] += 3"
   ]
  },
  {
   "cell_type": "code",
   "execution_count": 46,
   "metadata": {},
   "outputs": [
    {
     "data": {
      "text/plain": [
       "7"
      ]
     },
     "execution_count": 46,
     "metadata": {},
     "output_type": "execute_result"
    }
   ],
   "source": [
    "trees"
   ]
  },
  {
   "cell_type": "markdown",
   "metadata": {},
   "source": [
    "## Part 2"
   ]
  },
  {
   "cell_type": "code",
   "execution_count": 69,
   "metadata": {},
   "outputs": [],
   "source": [
    "# A list of coordinates (x, y) Note, due to the way lists work indexing will be hill[y][x]\n",
    "coords_list = [[1, 1], [3, 1], [5, 1], [7, 1], [1, 2]]\n",
    "# Variable: product of the number of trees encountered in each set of coords\n",
    "trees_prod = 1\n",
    "\n",
    "x_lim = len(hills[0])\n",
    "\n",
    "for coords in coords_list:\n",
    "    \n",
    "    # x and y distances moved for each set of coordinates\n",
    "    y_dis = coords[1]\n",
    "    x_dis = coords[0]\n",
    "    # Variable: number of trees encountered\n",
    "    trees = 0\n",
    "    \n",
    "    # While we haven't hit the bottom yet\n",
    "    while coords[1] < len(hills):\n",
    "        #print(x_lim)\n",
    "        # If there is a tree at the coordinates, count it\n",
    "        if hills[coords[1]][coords[0]] == '#':\n",
    "            trees += 1\n",
    "        \n",
    "        # If we reach the right side of the hill, reset the x coord so it continues on the other side\n",
    "        if coords[0] + x_dis  >= x_lim:\n",
    "            coords[0] += x_dis\n",
    "            coords[0] -= x_lim\n",
    "            coords[1] += y_dis\n",
    "        # If we don't hit the edge\n",
    "        else:\n",
    "            # Move normally by the alloted distances\n",
    "            coords[1] += y_dis\n",
    "            coords[0] += x_dis\n",
    "        \n",
    "    # multipy the number of trees to the total    \n",
    "    trees_prod *= trees"
   ]
  },
  {
   "cell_type": "code",
   "execution_count": 70,
   "metadata": {},
   "outputs": [
    {
     "data": {
      "text/plain": [
       "5140884672"
      ]
     },
     "execution_count": 70,
     "metadata": {},
     "output_type": "execute_result"
    }
   ],
   "source": [
    "trees_prod"
   ]
  },
  {
   "cell_type": "code",
   "execution_count": null,
   "metadata": {},
   "outputs": [],
   "source": []
  }
 ],
 "metadata": {
  "kernelspec": {
   "display_name": "Python 3",
   "language": "python",
   "name": "python3"
  },
  "language_info": {
   "codemirror_mode": {
    "name": "ipython",
    "version": 3
   },
   "file_extension": ".py",
   "mimetype": "text/x-python",
   "name": "python",
   "nbconvert_exporter": "python",
   "pygments_lexer": "ipython3",
   "version": "3.8.5"
  }
 },
 "nbformat": 4,
 "nbformat_minor": 4
}
